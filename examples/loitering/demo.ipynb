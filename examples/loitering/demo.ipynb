{
 "cells": [
  {
   "attachments": {},
   "cell_type": "markdown",
   "metadata": {},
   "source": [
    "# Detect people loitering \n",
    "\n",
    "[![Open In Colab](https://colab.research.google.com/assets/colab-badge.svg)](https://colab.research.google.com/github/uclasystem/VQPy/blob/main/examples/loitering/demo.ipynb)\n",
    "\n",
    "\n",
    "## Introduction\n",
    "\n",
    "Loitering is the activity of remaining in an area for no obvious reason. In the example [video](https://youtu.be/EuLMrUFNRxQ), we consider the region inside the garage private, and tries to detect people staying within that region for a prolonged time."
   ]
  },
  {
   "attachments": {},
   "cell_type": "markdown",
   "metadata": {},
   "source": [
    "## Environment setup"
   ]
  },
  {
   "attachments": {},
   "cell_type": "markdown",
   "metadata": {},
   "source": [
    "Please download video from [here](https://youtu.be/EuLMrUFNRxQ) and place it in the same directory as this notebook, aside from running the cell below."
   ]
  },
  {
   "cell_type": "code",
   "execution_count": null,
   "metadata": {},
   "outputs": [],
   "source": [
    "# install YOLOX\n",
    "!git clone https://github.com/Megvii-BaseDetection/YOLOX.git\n",
    "# download YOLOX pretrained model\n",
    "!wget -bqc https://github.com/Megvii-BaseDetection/YOLOX/releases/download/0.1.1rc0/yolox_x.pth\n",
    "!cd YOLOX && pip3 install .\n",
    "# download VQPy, move vqpy/ to root directory for import\n",
    "!git clone https://github.com/uclasystem/VQPy.git\n",
    "!mv VQPy/vqpy ./\n",
    "# install VQPy's dependencies\n",
    "!pip install lap cython_bbox shapely\n",
    "import vqpy"
   ]
  },
  {
   "attachments": {},
   "cell_type": "markdown",
   "metadata": {},
   "source": [
    "## Composing the query"
   ]
  },
  {
   "attachments": {},
   "cell_type": "markdown",
   "metadata": {},
   "source": [
    "### VObj definition"
   ]
  },
  {
   "attachments": {},
   "cell_type": "markdown",
   "metadata": {},
   "source": [
    "Since we are interested in people, first define a `Person` class. In this example, we will only be using the coordinates of each person, which are all built-in to VObj, so no extra property needs to be added."
   ]
  },
  {
   "cell_type": "code",
   "execution_count": null,
   "metadata": {},
   "outputs": [],
   "source": [
    "class Person(vqpy.VObjBase):\n",
    "    pass"
   ]
  },
  {
   "attachments": {},
   "cell_type": "markdown",
   "metadata": {},
   "source": [
    "With the defined VObj type, we can filter all VObjs that's identified to be a person with:\n",
    "\n",
    "```python\n",
    "\"__class__\": lambda x: x == Person\n",
    "```"
   ]
  },
  {
   "attachments": {},
   "cell_type": "markdown",
   "metadata": {},
   "source": [
    "### Query definition"
   ]
  },
  {
   "attachments": {},
   "cell_type": "markdown",
   "metadata": {},
   "source": [
    "#### Filtering VObjs\n",
    "\n",
    "Trying to find people that stays in the region of interest, we filter on the coordinate of a person's base of support. This can be approximated to a built-in property of VObj: `bottom_center`, the point located at the center of the lower edge of VObj's bounding box.\n",
    "\n",
    "Knowing where the person is, the next step is to determine if the coordinate is within the region of interest (i.e. the garage), marked by the red polygon shown below.\n",
    "\n",
    "<img src=\"./demo.assets/region.png\" alt=\"region of interest\" style=\"zoom: 30%;\" />\n",
    "\n",
    "`vqpy.utils.within_regions([REGION, ...])` accepts a coordinate and returns `True` if it's in any of the `REGION`s.\n",
    "\n",
    "The polygon is outlined by its 5 vertices:"
   ]
  },
  {
   "cell_type": "code",
   "execution_count": null,
   "metadata": {},
   "outputs": [],
   "source": [
    "REGION = [(550, 550), (1162, 400), (1720, 720), (1430, 1072), (600, 1073)]"
   ]
  },
  {
   "attachments": {},
   "cell_type": "markdown",
   "metadata": {},
   "source": [
    "The predicate to filter VObjs in the region is then:\n",
    "\n",
    "```python\n",
    "\"bottom_center\": vqpy.utils.within_regions([REGION])\n",
    "```"
   ]
  },
  {
   "attachments": {},
   "cell_type": "markdown",
   "metadata": {},
   "source": [
    "Since we wish to find person staying in the region for some duration, `vqpy.utils.continuing` could wrap the above predicate and specify the minimum time it should be satisfied.\n",
    "\n",
    "`duration=10` sets the time threshold to 10 seconds; `name=\"in_roi\"` can be used later to retrieve time periods of condition being satisfied.\n",
    "\n",
    "Predicate used to filter on `bottom_center` becomes:\n",
    "\n",
    "```python\n",
    "\"bottom_center\": vqpy.utils.continuing(\n",
    "    condition=vqpy.utils.within_regions([REGION]),\n",
    "    duration=10, name=\"in_roi\"\n",
    ")\n",
    "```"
   ]
  },
  {
   "attachments": {},
   "cell_type": "markdown",
   "metadata": {},
   "source": [
    "Combining everything we have so far, the filter condition of the query should be:"
   ]
  },
  {
   "cell_type": "code",
   "execution_count": null,
   "metadata": {},
   "outputs": [],
   "source": [
    "filter_cons = {\n",
    "    \"__class__\": lambda x: x == Person,\n",
    "    \"bottom_center\": vqpy.utils.continuing(\n",
    "        condition=vqpy.utils.within_regions([REGION]), duration=10, name=\"in_roi\"\n",
    "    ),\n",
    "}"
   ]
  },
  {
   "attachments": {},
   "cell_type": "markdown",
   "metadata": {},
   "source": [
    "#### Selecting VObjs' properties for output"
   ]
  },
  {
   "attachments": {},
   "cell_type": "markdown",
   "metadata": {},
   "source": [
    "For each person, we can output its tracking id, coordinate, and duration of staying in the region:\n",
    "\n",
    "- tracking id can be selected with `track_id`\n",
    "- outputting coordinate needs to select `coordinate` then serialize the ndarray to string with post-processing function `lambda x: str(x)`\n",
    "- `in_roi_periods` can be used to access list of time periods (in seconds) of VObjs satisfying the condition\n",
    "\n",
    "\tthis name comes from appending `\"_periods\"` to `name` defined in `vqpy.utils.continuing`"
   ]
  },
  {
   "attachments": {},
   "cell_type": "markdown",
   "metadata": {},
   "source": [
    "The select condition of the query could be:"
   ]
  },
  {
   "cell_type": "code",
   "execution_count": null,
   "metadata": {},
   "outputs": [],
   "source": [
    "select_cons = {\n",
    "    \"track_id\": None,\n",
    "    \"coordinate\": lambda x: str(x),  # convert to string for JSON serialization\n",
    "    # name in vqpy.continuing + '_periods' can be used in select_cons.\n",
    "    \"in_roi_periods\": None,\n",
    "}"
   ]
  },
  {
   "attachments": {},
   "cell_type": "markdown",
   "metadata": {},
   "source": [
    "### The query"
   ]
  },
  {
   "attachments": {},
   "cell_type": "markdown",
   "metadata": {},
   "source": [
    "Inheriting `vqpy.QueryBase`, we can compose a query using the `filter_cons, select_cons` created earlier:"
   ]
  },
  {
   "cell_type": "code",
   "execution_count": null,
   "metadata": {},
   "outputs": [],
   "source": [
    "class People_loitering_query(vqpy.QueryBase):\n",
    "    @staticmethod\n",
    "    def setting() -> vqpy.VObjConstraint:\n",
    "        return vqpy.VObjConstraint(\n",
    "            filter_cons, select_cons, filename=\"loitering\"\n",
    "        )"
   ]
  },
  {
   "attachments": {},
   "cell_type": "markdown",
   "metadata": {},
   "source": [
    "## Running the query"
   ]
  },
  {
   "cell_type": "code",
   "execution_count": null,
   "metadata": {},
   "outputs": [],
   "source": [
    "video_path = \"./loitering.mp4\"\n",
    "save_folder = \"./vqpy_outputs\"\n",
    "detector_model_dir = \"./\""
   ]
  },
  {
   "cell_type": "code",
   "execution_count": null,
   "metadata": {},
   "outputs": [],
   "source": [
    "vqpy.launch(\n",
    "        cls_name=vqpy.COCO_CLASSES,\n",
    "        cls_type={\"person\": Person},\n",
    "        tasks=[People_loitering_query()],\n",
    "        video_path=video_path,\n",
    "        save_folder=save_folder,\n",
    "        detector_name=\"yolox\",\n",
    "        detector_model_dir=detector_model_dir,\n",
    "    )"
   ]
  },
  {
   "attachments": {},
   "cell_type": "markdown",
   "metadata": {},
   "source": [
    "Note that:\n",
    "\n",
    "- we specified the class number in output of the object detector should be interpreted as described in `vqpy.COCO_CLASSES\n",
    "- then mapped `person` in COCO classes to `Person` VObj defined above."
   ]
  },
  {
   "attachments": {},
   "cell_type": "markdown",
   "metadata": {},
   "source": [
    "## Expected result"
   ]
  },
  {
   "attachments": {},
   "cell_type": "markdown",
   "metadata": {},
   "source": [
    "The output should be in `./vqpy_outputs/loitering_loitering_yolox.json`.\n",
    "\n",
    "One entry is created for each frame that has filter condition satisfied.\n",
    "\n",
    "The 765th frame as an example:\n",
    "\n",
    "```json\n",
    "{\n",
    "    \"frame_id\": 765,\n",
    "    \"data\": [\n",
    "      {\n",
    "        \"track_id\": 606,\n",
    "        \"coordinate\": \"[1426.5312   492.42188]\",\n",
    "        \"in_roi_periods\": [[40, 50]]\n",
    "      }\n",
    "    ]\n",
    "}\n",
    "```\n",
    "\n",
    "Marking person's `coordinate` with a red circle, this is\n",
    "\n",
    "<img src=\"./demo.assets/marked.png\" alt=\"with coordinate marked\" style=\"zoom: 30%;\" />\n",
    "\n",
    "Value of `in_roi_periods` indicates that the person has been in the region in time period 00:40-00:50."
   ]
  }
 ],
 "metadata": {
  "language_info": {
   "name": "python"
  },
  "orig_nbformat": 4
 },
 "nbformat": 4,
 "nbformat_minor": 2
}
