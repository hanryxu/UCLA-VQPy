{
 "cells": [
  {
   "attachments": {},
   "cell_type": "markdown",
   "metadata": {},
   "source": [
    "Please download video from [here](https://youtu.be/EuLMrUFNRxQ) and place it in the same directory as this notebook."
   ]
  },
  {
   "cell_type": "code",
   "execution_count": null,
   "metadata": {},
   "outputs": [],
   "source": [
    "!git clone https://github.com/Megvii-BaseDetection/YOLOX.git \n",
    "!cd YOLOX && pip3 install -v -e\n",
    "!git clone https://github.com/uclasystem/VQPy.git\n",
    "!mv VQPy/vqpy ./\n",
    "!pip install lap cython_bbox\n",
    "!wget https://github.com/Megvii-BaseDetection/YOLOX/releases/download/0.1.1rc0/yolox_x.pth"
   ]
  },
  {
   "cell_type": "code",
   "execution_count": null,
   "metadata": {},
   "outputs": [],
   "source": [
    "import vqpy"
   ]
  },
  {
   "cell_type": "code",
   "execution_count": null,
   "metadata": {},
   "outputs": [],
   "source": [
    "class Person(vqpy.VObjBase):\n",
    "    pass"
   ]
  },
  {
   "cell_type": "code",
   "execution_count": null,
   "metadata": {},
   "outputs": [],
   "source": [
    "class People_loitering_query(vqpy.QueryBase):\n",
    "    @staticmethod\n",
    "    def setting() -> vqpy.VObjConstraint:\n",
    "        REGION = [\n",
    "            (550, 550), (1162, 400), (1720, 720), (1430, 1072), (600, 1073)\n",
    "            ]\n",
    "        REGIONS = [REGION]\n",
    "\n",
    "        filter_cons = {\n",
    "            \"__class__\": lambda x: x == Person,\n",
    "            \"bottom_center\": vqpy.utils.continuing(\n",
    "                condition=vqpy.utils.within_regions(REGIONS),\n",
    "                duration=10, name=\"in_roi\"\n",
    "            ),\n",
    "        }\n",
    "        select_cons = {\n",
    "            \"track_id\": None,\n",
    "            \"coordinate\": lambda x: str(x),  # convert to string for\n",
    "                                             # JSON serialization\n",
    "            # name in vqpy.continuing + '_periods' can be used in select_cons.\n",
    "            \"in_roi_periods\": None,\n",
    "        }\n",
    "        return vqpy.VObjConstraint(\n",
    "            filter_cons, select_cons, filename=\"loitering\"\n",
    "        )"
   ]
  },
  {
   "cell_type": "code",
   "execution_count": null,
   "metadata": {},
   "outputs": [],
   "source": [
    "video_path = \"./loitering.mp4\"\n",
    "save_folder = \"./vqpy_outputs\"\n",
    "detector_model_dir = \"./\""
   ]
  },
  {
   "cell_type": "code",
   "execution_count": null,
   "metadata": {},
   "outputs": [],
   "source": [
    "vqpy.launch(\n",
    "        cls_name=vqpy.COCO_CLASSES,\n",
    "        cls_type={\"person\": Person},\n",
    "        tasks=[People_loitering_query()],\n",
    "        video_path=video_path,\n",
    "        save_folder=save_folder,\n",
    "        detector_name=\"yolox\",\n",
    "        detector_model_dir=detector_model_dir,\n",
    "    )"
   ]
  }
 ],
 "metadata": {
  "language_info": {
   "name": "python"
  },
  "orig_nbformat": 4
 },
 "nbformat": 4,
 "nbformat_minor": 2
}
