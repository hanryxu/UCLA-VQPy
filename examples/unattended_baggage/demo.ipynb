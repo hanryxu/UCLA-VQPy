{
 "cells": [
  {
   "attachments": {},
   "cell_type": "markdown",
   "metadata": {},
   "source": [
    "# Detect unattended baggage\n",
    "\n",
    "[![Open In Colab](https://colab.research.google.com/assets/colab-badge.svg)](https://colab.research.google.com/github/uclasystem/VQPy/blob/main/examples/unattended_baggage/demo.ipynb)\n",
    "\n",
    "## Introduction\n",
    "\n",
    "Unattended baggage could simply be an oversight of by the owner; or intentionally left behind, containing dangerous materials that poses a threat to public safety. Either case, detection is necessary.\n",
    "\n",
    "In this example, we aim to identify baggages with no owner for some time period exceeding a set threshold. For simplicity, we say a baggage's owner in each video frame is:\n",
    "\n",
    "- its owner from last frame, if that person is still present and within some distance from the baggage\n",
    "- else, the person closest to the baggage and within some distance"
   ]
  },
  {
   "attachments": {},
   "cell_type": "markdown",
   "metadata": {},
   "source": [
    "## Environment setup"
   ]
  },
  {
   "attachments": {},
   "cell_type": "markdown",
   "metadata": {},
   "source": [
    "Python3.8 is recommended to avoid compatibility issues when installing YOLOX.\n",
    "\n",
    "Please download video from [kaggle](https://www.kaggle.com/datasets/szahid405/baggage?select=baggage.mp4) and place it in the same directory as this notebook, aside from running the cell below."
   ]
  },
  {
   "cell_type": "code",
   "execution_count": null,
   "metadata": {},
   "outputs": [],
   "source": [
    "# install YOLOX\n",
    "!git clone https://github.com/Megvii-BaseDetection/YOLOX.git\n",
    "# download YOLOX pretrained model\n",
    "!wget https://github.com/Megvii-BaseDetection/YOLOX/releases/download/0.1.1rc0/yolox_x.pth\n",
    "!cd YOLOX && pip3 install .\n",
    "# download VQPy, move vqpy/ to root directory for import\n",
    "!git clone https://github.com/uclasystem/VQPy.git\n",
    "!mv VQPy/vqpy ./\n",
    "# install VQPy's dependencies\n",
    "!pip3 install lap cython_bbox shapely\n",
    "import vqpy\n",
    "video_path = \"./baggage.mp4\"\t# or change to wherever you put the video\n",
    "save_folder = \"./vqpy_outputs\"\n",
    "detector_model_dir = \"./\""
   ]
  },
  {
   "attachments": {},
   "cell_type": "markdown",
   "metadata": {},
   "source": [
    "For reference, the working directory should look like:\n",
    "\n",
    "```text\n",
    ".\n",
    "├── VQPy\n",
    "├── YOLOX\n",
    "├── baggage.mp4\t# video to query on\n",
    "├── vqpy\t# make vqpy available for import\n",
    "└── yolox_x.pth\t# model checkpoint\n",
    "```"
   ]
  },
  {
   "attachments": {},
   "cell_type": "markdown",
   "metadata": {},
   "source": [
    "## Unattended baggage query with VQPy"
   ]
  },
  {
   "attachments": {},
   "cell_type": "markdown",
   "metadata": {},
   "source": [
    "### Step 1: Define `VObj` types for baggage and person\n",
    "\n",
    "Two types of VObjs are involved in the query: baggage and person. Querying on them requires creating the corresponding VObjs."
   ]
  },
  {
   "cell_type": "code",
   "execution_count": null,
   "metadata": {},
   "outputs": [],
   "source": [
    "class Person(vqpy.VObjBase):\n",
    "    pass\n",
    "class Baggage(vqpy.VObjBase):\n",
    "    pass"
   ]
  },
  {
   "attachments": {},
   "cell_type": "markdown",
   "metadata": {},
   "source": [
    "#### Add property `owner` to baggage\n",
    "\n",
    "We can add properties to VObjs by providing a function that computes its value. According to the simplified logic of finding a baggage's owner described above, we need the following to find the owner of the baggage:\n",
    "\n",
    "- baggage's owner from last frame\n",
    "\t\n",
    "\tThis requires property `owner` to be stateful, i.e. decorated with `@stateful`. We can then use `getv(owner, -2)` to access value of `owner` from last frame.\n",
    "- identifier (track id) and coordinates of `Person`s in current frame\n",
    "\n",
    "\tTo get properties of other VObjs, decorate the function with `@cross_vobj_property`. Argument `vobj_type` of the decorator takes the type of VObj to request properties from, and `vobj_input_fields` is the names of properties. All properties requested will be passed to the function in form of a list of tuples, each tuple containing properties of a VObj.\n",
    "\n",
    "Adding property `owner`, we define `Baggage`:"
   ]
  },
  {
   "cell_type": "code",
   "execution_count": null,
   "metadata": {},
   "outputs": [],
   "source": [
    "# helper function to calculate distance between two bounding boxes, in pixels\n",
    "def distance(vobj1_tlbr, vobj2_tlbr):\n",
    "    from math import sqrt\n",
    "\n",
    "    center1 = (vobj1_tlbr[:2] + vobj1_tlbr[2:]) / 2\n",
    "    center2 = (vobj2_tlbr[:2] + vobj2_tlbr[2:]) / 2\n",
    "    # difference between center coordinate\n",
    "    diff = center2 - center1\n",
    "    return sqrt(diff[0] ** 2 + diff[1] ** 2)\n",
    "\n",
    "\n",
    "class Baggage(vqpy.VObjBase):\n",
    "    @vqpy.stateful()\n",
    "    @vqpy.cross_vobj_property(vobj_type=Person, vobj_input_fields=(\"track_id\", \"tlbr\"))\n",
    "    def owner(self, person_ids_tlbrs):\n",
    "        baggage_tlbr = self.getv(\"tlbr\")\n",
    "        prev_owner = self.getv(\"owner\", -2)\n",
    "        owner_id = None\n",
    "        threshold = (\n",
    "            baggage_tlbr[3] - baggage_tlbr[1]\n",
    "        ) + 1  # set threshold to baggage's width\n",
    "        min_dist = threshold + 1  # distance to nearest person\n",
    "        # iterating through all people in the frame\n",
    "        for person_id, person_tlbr in person_ids_tlbrs:\n",
    "            dist = distance(baggage_tlbr, person_tlbr)\n",
    "            if person_id == prev_owner and dist <= threshold:\n",
    "                # return previous owner if still around\n",
    "                return prev_owner\n",
    "            if dist <= threshold and dist < min_dist:\n",
    "                # update owner if closer\n",
    "                owner_id = person_id\n",
    "                min_dist = dist\n",
    "        # new owner is returned (will return None if owner not found)\n",
    "        return owner_id"
   ]
  },
  {
   "attachments": {},
   "cell_type": "markdown",
   "metadata": {},
   "source": [
    "### Step 2: Query on baggage's owner\n",
    "\n",
    "To filter baggage that don't have any owner for some time period (i.e. `owner` is `None`), we use `vqpy.utils.continuing` with condition `lambda x: x is None` on property `\"owner\"`. Duration is set to 10 (seconds), and we use the name `no_owner` to describe the filter on `owner`."
   ]
  },
  {
   "cell_type": "code",
   "execution_count": null,
   "metadata": {},
   "outputs": [],
   "source": [
    "filter_cons = {\n",
    "    \"__class__\": lambda x: x == Baggage,\n",
    "    \"owner\": vqpy.utils.continuing(\n",
    "        condition=lambda x: x is None, duration=10, name=\"no_owner\"\n",
    "    ),\n",
    "}"
   ]
  },
  {
   "attachments": {},
   "cell_type": "markdown",
   "metadata": {},
   "source": [
    "For each baggage without owner, we output:\n",
    "\n",
    "- `track_id`, tracking id, built-in property of VObj\n",
    "- `tlbr`, bounding box, also built-in property of VObj. Use post-processing function to converted to string before serializing.\n",
    "- `no_owner_periods`, a list of time periods (in seconds) of `Baggage` having no owner\n",
    "\n",
    "\tThis property is added to `Baggage` by wrapper `vqpy.utils.continuing`, its name from `{name}_periods` where `name` \"no_owner\" is defined in the wrapper"
   ]
  },
  {
   "cell_type": "code",
   "execution_count": null,
   "metadata": {},
   "outputs": [],
   "source": [
    "select_cons = {\n",
    "    \"track_id\": None,\n",
    "    \"tlbr\": lambda x: str(x),\n",
    "    \"no_owner_periods\": None,\n",
    "}"
   ]
  },
  {
   "attachments": {},
   "cell_type": "markdown",
   "metadata": {},
   "source": [
    "The query is:"
   ]
  },
  {
   "cell_type": "code",
   "execution_count": null,
   "metadata": {},
   "outputs": [],
   "source": [
    "class FindUnattendedBaggage(vqpy.QueryBase):\n",
    "    @staticmethod\n",
    "    def setting() -> vqpy.VObjConstraint:\n",
    "        return vqpy.VObjConstraint(\n",
    "            filter_cons=filter_cons,\n",
    "            select_cons=select_cons,\n",
    "            filename=\"unattended_baggage\",\n",
    "        )"
   ]
  },
  {
   "attachments": {},
   "cell_type": "markdown",
   "metadata": {},
   "source": [
    "### Step 3: Running the query"
   ]
  },
  {
   "attachments": {},
   "cell_type": "markdown",
   "metadata": {},
   "source": [
    "With the `Person` VObj and the query defined, we can run the query, where:\n",
    "\n",
    "- `cls_name` is a tuple for mapping numerical outputs of object detector to str\n",
    "\n",
    "\te.g. `vqpy.COCO_CLASSES` here starts with `(\"person\", \"bicycle\", ...)`, meaning that we will map output `0` of object detector to COCO class `\"person\"`\n",
    "\n",
    "- `cls_type` is a dictionary that maps name of object type (in str) to VObj types defined\n",
    "\n",
    "\t`{\"person\": Person, \"backpack\": Baggage, \"suitcase\": Baggage}` means we wish to map COCO class `person` to VObj type `Person`, and `backpack, suitcase`  to `Baggage`\n",
    "\n",
    "- `tasks` is a list of queries to run on the video"
   ]
  },
  {
   "cell_type": "code",
   "execution_count": null,
   "metadata": {},
   "outputs": [],
   "source": [
    "vqpy.launch(\n",
    "    cls_name=vqpy.COCO_CLASSES,\n",
    "    cls_type={\"person\": Person, \"backpack\": Baggage, \"suitcase\": Baggage},\n",
    "    tasks=[FindUnattendedBaggage()],\n",
    "    video_path=video_path,\n",
    "    save_folder=save_folder,\n",
    "    detector_model_dir=detector_model_dir,\n",
    ")"
   ]
  },
  {
   "attachments": {},
   "cell_type": "markdown",
   "metadata": {},
   "source": [
    "## Expected result\n",
    "\n",
    "Result of the query will be in `{save_folder}/{video_name}_{task_name}_{detector_name}.json`, output for this example should be in `./vqpy_outputs/baggage_unattended_baggage_yolox.json`.\n",
    "\n",
    "One entry is created for each frame that has filter condition satisfied.\n",
    "\n",
    "At 3102th frame (or 103s), we have output:\n",
    "\n",
    "```json\n",
    "{\n",
    "  \"frame_id\": 3102,\n",
    "  \"data\": [\n",
    "    {\n",
    "      \"track_id\": 522,\n",
    "      \"tlbr\": \"[ 65.91797 244.125   147.65625 397.6875 ]\",\n",
    "      \"no_owner_periods\": [\n",
    "        [49, 83],\n",
    "        [86, 103]\n",
    "      ]\n",
    "    }\n",
    "  ]\n",
    "}\n",
    "```\n",
    "\n",
    "The baggage we find is:\n",
    "\n",
    "<img src=\"./demo.assets/frame3102.png\" alt=\"with bounding box\" style=\"zoom: 90%;\" />"
   ]
  }
 ],
 "metadata": {
  "language_info": {
   "name": "python"
  },
  "orig_nbformat": 4
 },
 "nbformat": 4,
 "nbformat_minor": 2
}
